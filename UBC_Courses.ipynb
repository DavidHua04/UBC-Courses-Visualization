{
 "cells": [
  {
   "cell_type": "markdown",
   "metadata": {},
   "source": [
    "# Study Planning Visualization"
   ]
  },
  {
   "cell_type": "markdown",
   "metadata": {},
   "source": [
    "| Year|                    Fall                   |                   Spring                  |        Summer      |\n",
    "|-----|-------------------------------------------|-------------------------------------------|--------------------|\n",
    "|  1  |    STAT200, CPSC110, DSCI100, CHIN481     |    MATH200, MATH221, CPSC121,  STAT301    |                    |\n",
    "\n"
   ]
  },
  {
   "cell_type": "markdown",
   "metadata": {},
   "source": [
    "## Computer Science"
   ]
  },
  {
   "cell_type": "markdown",
   "metadata": {
    "vscode": {
     "languageId": "plaintext"
    }
   },
   "source": [
    "```mermaid\n",
    "\n",
    "flowchart TD\n",
    "    %% Computer Science Major Courses\n",
    "\n",
    "    CPSC100[\"CPSC100: Computational Thinking(3)\"]\n",
    "    CPSC103[\"CPSC103: Introduction to Systematic Program Design(3)\"]\n",
    "    CPSC107[\"CPSC107: Systematic Program Design(3)\"]\n",
    "    CPSC110[\"CPSC 110: Computation, Programs, and Programming(4)\"]\n",
    "    CPSC121[\"CPSC 121: Models of Computation(4)\"]\n",
    "\n",
    "    CPSC203[\"CPSC203: Programming, Problem Solving, and Algorithms(3)\"]\n",
    "    CPSC210[\"CPSC 210: Software Construction(4)\"]\n",
    "    CPSC213[\"CPSC 213: Introduction to Computer Systems(4)\"]\n",
    "    CPSC221[\"CPSC 221: Basic Algorithms and Data Structures(4)\"]\n",
    "    \n",
    "    CPSC303[\"CPSC303: Numerical Approximation and Discretization(3)\"]\n",
    "    CPSC304[\"CPSC304: Introduction to Relational Databases(3)\"]\n",
    "    CPSC310[\"CPSC310: Introduction to Software Engineering(4)\"]\n",
    "    CPSC313[\"CPSC 313: Computer Hardware and Operating Systems\"]\n",
    "    CPSC320[\"CPSC 320: Intermediate Algorithm Design and Analysis\"]\n",
    "\n",
    "\n",
    "    CPSC110 --> CPSC121\n",
    "    CPSC110 --> CPSC203\n",
    "\n",
    "\n",
    "\n",
    "```"
   ]
  },
  {
   "cell_type": "markdown",
   "metadata": {},
   "source": [
    "## Statistic"
   ]
  },
  {
   "cell_type": "markdown",
   "metadata": {},
   "source": [
    "```mermaid\n",
    "\n",
    "flowchart TD\n",
    "\n",
    "%% Statistics Major Courses\n",
    "    DSCI100[\"DSCI 100: Introduction to Data Science\"]\n",
    "    STAT200[\"STAT 200: Elementary Statistics for Applications\"]\n",
    "    STAT201[\"STAT 201: Statistical Inference\"] --> STAT200\n",
    "    STAT203[\"STAT 203: Statistical Methods\"]\n",
    "    STAT302[\"STAT 302: Introduction to Probability\"] --> MATH200 & MATH221\n",
    "    STAT305[\"STAT 305: Introduction to Statistical Inference\"] --> STAT302\n",
    "    STAT306[\"STAT 306: Applied Statistics\"] --> STAT305\n",
    "    STAT344[\"STAT 344: Sample Surveys\"] --> STAT200\n",
    "\n",
    "    %% Mathematics Courses\n",
    "    MATH100[\"MATH 100: Differential Calculus\"]\n",
    "    MATH101[\"MATH 101: Integral Calculus\"] --> MATH100\n",
    "    MATH200[\"MATH 200: Multivariable Calculus\"] --> MATH101\n",
    "    MATH221[\"MATH 221: Matrix Algebra\"]\n",
    "\n",
    "```"
   ]
  }
 ],
 "metadata": {
  "language_info": {
   "name": "python"
  }
 },
 "nbformat": 4,
 "nbformat_minor": 2
}
