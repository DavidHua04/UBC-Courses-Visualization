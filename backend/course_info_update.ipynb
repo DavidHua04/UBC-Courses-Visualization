{
 "cells": [
  {
   "cell_type": "code",
   "execution_count": 12,
   "metadata": {
    "metadata": {}
   },
   "outputs": [],
   "source": [
    "import requests\n",
    "from bs4 import BeautifulSoup\n",
    "import re\n",
    "import pandas as pd\n",
    "import json\n",
    "from openai import OpenAI"
   ]
  },
  {
   "cell_type": "code",
   "execution_count": 13,
   "metadata": {
    "metadata": {}
   },
   "outputs": [],
   "source": [
    "# Read list from a JSON file\n",
    "with open('data/department_list.json', 'r') as file:\n",
    "    department_list = json.load(file)"
   ]
  },
  {
   "cell_type": "code",
   "execution_count": 14,
   "metadata": {
    "metadata": {}
   },
   "outputs": [
    {
     "name": "stdout",
     "output_type": "stream",
     "text": [
      "Scraping CPSC...\n",
      "Scraping MATH...\n"
     ]
    }
   ],
   "source": [
    "# Base URL for course descriptions\n",
    "BASE_URL = \"https://vancouver.calendar.ubc.ca/course-descriptions/subject/\"\n",
    "\n",
    "# Function to scrape courses for a department\n",
    "def scrape_department_courses(department_code):\n",
    "    url = f\"{BASE_URL}{department_code}v\"\n",
    "    response = requests.get(url)\n",
    "    \n",
    "    if response.status_code != 200:\n",
    "        print(f\"Failed to fetch data for {department_code}: {response.status_code}\")\n",
    "        return []\n",
    "\n",
    "    # Parse the HTML content\n",
    "    soup = BeautifulSoup(response.text, 'html.parser')\n",
    "\n",
    "    # Extract all course blocks (using updated selectors based on the provided HTML structure)\n",
    "    courses = []\n",
    "    for course in soup.find_all(\"article\", class_=\"node node--type-course node--promoted node--view-mode-teaser\"):\n",
    "        # Extract course code, name, and credit hours from the h3 tag\n",
    "        header = course.find(\"h3\")\n",
    "        if header:\n",
    "            course_details = header.text.strip()\n",
    "            # Regex to match the course code, credit, and course name\n",
    "            match = re.match(r\"(?P<code>[A-Z]+_V \\d+) \\((?P<credits>\\d+)\\)\\s+(?P<name>.+)$\", course_details)\n",
    "            if match:\n",
    "                course_code = match.group('code')\n",
    "                course_name = match.group('name')\n",
    "                credits = int(match.group('credits'))\n",
    "            else:\n",
    "                continue\n",
    "        \n",
    "        # Extract course description and prerequisites from the p tag\n",
    "        description_block = course.find(\"p\")\n",
    "        if description_block:\n",
    "            description_text = description_block.text.strip()\n",
    "            # Regex to extract prerequisites text\n",
    "            prereq_match = re.search(r\"Prerequisite[s]*: (.+?)(?:\\s[Cc]orequisite[s]*:|$)\", description_text)\n",
    "            prerequisites = prereq_match.group(1) if prereq_match else None\n",
    "            coreq_match = re.search(r\"Corequisite[s]*: (.+)\", description_text, re.IGNORECASE)\n",
    "            corequisites = coreq_match.group(1) if coreq_match else None\n",
    "\n",
    "            # Append course data\n",
    "            courses.append({\n",
    "                \"course_code\": course_code,\n",
    "                \"course_name\": course_name,\n",
    "                \"credits\": credits,\n",
    "                \"description\": description_text,\n",
    "                \"prerequisites\": prerequisites,\n",
    "                \"corequisites\": corequisites\n",
    "            })\n",
    "\n",
    "    return courses\n",
    "\n",
    "# Scrape multiple departments\n",
    "departments = [\"CPSC\", \"MATH\"]  # Add more department codes as needed(!!!, replace the full course list after finish future design)\n",
    "all_courses = []\n",
    "for dept in departments:\n",
    "    print(f\"Scraping {dept}...\")\n",
    "    courses = scrape_department_courses(dept)\n",
    "    all_courses.extend(courses)"
   ]
  },
  {
   "cell_type": "code",
   "execution_count": 15,
   "metadata": {
    "metadata": {}
   },
   "outputs": [],
   "source": [
    "# Convert to DataFrame and save\n",
    "df_courses = pd.DataFrame(all_courses)"
   ]
  },
  {
   "cell_type": "code",
   "execution_count": 16,
   "metadata": {
    "metadata": {}
   },
   "outputs": [],
   "source": [
    "df_courses['department'] = df_courses['course_code'].str.split().str[0]\n",
    "df_courses['department'] = df_courses['department'].str.replace('_V', '')\n",
    "df_courses['course_code'] = df_courses['course_code'].str.split().str[1].astype(int)"
   ]
  },
  {
   "cell_type": "code",
   "execution_count": 17,
   "metadata": {
    "metadata": {}
   },
   "outputs": [],
   "source": [
    "df_courses = df_courses[[\"department\", \"course_code\", \"course_name\", \"credits\", \"prerequisites\", \"corequisites\", \"description\"]]"
   ]
  },
  {
   "cell_type": "code",
   "execution_count": 19,
   "metadata": {
    "metadata": {}
   },
   "outputs": [
    {
     "data": {
      "text/html": [
       "<div>\n",
       "<style scoped>\n",
       "    .dataframe tbody tr th:only-of-type {\n",
       "        vertical-align: middle;\n",
       "    }\n",
       "\n",
       "    .dataframe tbody tr th {\n",
       "        vertical-align: top;\n",
       "    }\n",
       "\n",
       "    .dataframe thead th {\n",
       "        text-align: right;\n",
       "    }\n",
       "</style>\n",
       "<table border=\"1\" class=\"dataframe\">\n",
       "  <thead>\n",
       "    <tr style=\"text-align: right;\">\n",
       "      <th></th>\n",
       "      <th>department</th>\n",
       "      <th>course_code</th>\n",
       "      <th>course_name</th>\n",
       "      <th>credits</th>\n",
       "      <th>prerequisites</th>\n",
       "      <th>corequisites</th>\n",
       "      <th>description</th>\n",
       "    </tr>\n",
       "  </thead>\n",
       "  <tbody>\n",
       "    <tr>\n",
       "      <th>0</th>\n",
       "      <td>CPSC</td>\n",
       "      <td>100</td>\n",
       "      <td>Computational Thinking</td>\n",
       "      <td>3</td>\n",
       "      <td>None</td>\n",
       "      <td>None</td>\n",
       "      <td>Meaning and impact of computational thinking. ...</td>\n",
       "    </tr>\n",
       "    <tr>\n",
       "      <th>1</th>\n",
       "      <td>CPSC</td>\n",
       "      <td>103</td>\n",
       "      <td>Introduction to Systematic Program Design</td>\n",
       "      <td>3</td>\n",
       "      <td>None</td>\n",
       "      <td>None</td>\n",
       "      <td>Computation as a tool for systematic problem s...</td>\n",
       "    </tr>\n",
       "    <tr>\n",
       "      <th>2</th>\n",
       "      <td>CPSC</td>\n",
       "      <td>107</td>\n",
       "      <td>Systematic Program Design</td>\n",
       "      <td>3</td>\n",
       "      <td>CPSC 103.</td>\n",
       "      <td>None</td>\n",
       "      <td>Fundamental computation and program structures...</td>\n",
       "    </tr>\n",
       "    <tr>\n",
       "      <th>3</th>\n",
       "      <td>CPSC</td>\n",
       "      <td>110</td>\n",
       "      <td>Computation, Programs, and Programming</td>\n",
       "      <td>4</td>\n",
       "      <td>None</td>\n",
       "      <td>None</td>\n",
       "      <td>Fundamental program and computation structures...</td>\n",
       "    </tr>\n",
       "    <tr>\n",
       "      <th>4</th>\n",
       "      <td>CPSC</td>\n",
       "      <td>121</td>\n",
       "      <td>Models of Computation</td>\n",
       "      <td>4</td>\n",
       "      <td>Principles of Mathematics 12 or Pre-calculus 12.</td>\n",
       "      <td>One of CPSC 107, CPSC 110.</td>\n",
       "      <td>Physical and mathematical structures of comput...</td>\n",
       "    </tr>\n",
       "    <tr>\n",
       "      <th>...</th>\n",
       "      <td>...</td>\n",
       "      <td>...</td>\n",
       "      <td>...</td>\n",
       "      <td>...</td>\n",
       "      <td>...</td>\n",
       "      <td>...</td>\n",
       "      <td>...</td>\n",
       "    </tr>\n",
       "    <tr>\n",
       "      <th>242</th>\n",
       "      <td>MATH</td>\n",
       "      <td>567</td>\n",
       "      <td>Nonlinear Wave Equations</td>\n",
       "      <td>3</td>\n",
       "      <td>None</td>\n",
       "      <td>None</td>\n",
       "      <td>This course is not eligible for Credit/D/Fail ...</td>\n",
       "    </tr>\n",
       "    <tr>\n",
       "      <th>243</th>\n",
       "      <td>MATH</td>\n",
       "      <td>589</td>\n",
       "      <td>M.Sc. Major Essay</td>\n",
       "      <td>3</td>\n",
       "      <td>None</td>\n",
       "      <td>None</td>\n",
       "      <td>This course is not eligible for Credit/D/Fail ...</td>\n",
       "    </tr>\n",
       "    <tr>\n",
       "      <th>244</th>\n",
       "      <td>MATH</td>\n",
       "      <td>591</td>\n",
       "      <td>Graduate Seminar in Applied Mathematics</td>\n",
       "      <td>2</td>\n",
       "      <td>None</td>\n",
       "      <td>None</td>\n",
       "      <td>This course is not eligible for Credit/D/Fail ...</td>\n",
       "    </tr>\n",
       "    <tr>\n",
       "      <th>245</th>\n",
       "      <td>MATH</td>\n",
       "      <td>599</td>\n",
       "      <td>Mathematics Teaching Techniques</td>\n",
       "      <td>1</td>\n",
       "      <td>None</td>\n",
       "      <td>None</td>\n",
       "      <td>[3-0-0] This course is not eligible for Credit...</td>\n",
       "    </tr>\n",
       "    <tr>\n",
       "      <th>246</th>\n",
       "      <td>MATH</td>\n",
       "      <td>649</td>\n",
       "      <td>Doctoral Dissertation</td>\n",
       "      <td>0</td>\n",
       "      <td>None</td>\n",
       "      <td>None</td>\n",
       "      <td>This course is not eligible for Credit/D/Fail ...</td>\n",
       "    </tr>\n",
       "  </tbody>\n",
       "</table>\n",
       "<p>247 rows × 7 columns</p>\n",
       "</div>"
      ],
      "text/plain": [
       "    department  course_code                                course_name  \\\n",
       "0         CPSC          100                     Computational Thinking   \n",
       "1         CPSC          103  Introduction to Systematic Program Design   \n",
       "2         CPSC          107                  Systematic Program Design   \n",
       "3         CPSC          110     Computation, Programs, and Programming   \n",
       "4         CPSC          121                      Models of Computation   \n",
       "..         ...          ...                                        ...   \n",
       "242       MATH          567                   Nonlinear Wave Equations   \n",
       "243       MATH          589                          M.Sc. Major Essay   \n",
       "244       MATH          591    Graduate Seminar in Applied Mathematics   \n",
       "245       MATH          599            Mathematics Teaching Techniques   \n",
       "246       MATH          649                      Doctoral Dissertation   \n",
       "\n",
       "     credits                                     prerequisites  \\\n",
       "0          3                                              None   \n",
       "1          3                                              None   \n",
       "2          3                                         CPSC 103.   \n",
       "3          4                                              None   \n",
       "4          4  Principles of Mathematics 12 or Pre-calculus 12.   \n",
       "..       ...                                               ...   \n",
       "242        3                                              None   \n",
       "243        3                                              None   \n",
       "244        2                                              None   \n",
       "245        1                                              None   \n",
       "246        0                                              None   \n",
       "\n",
       "                   corequisites  \\\n",
       "0                          None   \n",
       "1                          None   \n",
       "2                          None   \n",
       "3                          None   \n",
       "4    One of CPSC 107, CPSC 110.   \n",
       "..                          ...   \n",
       "242                        None   \n",
       "243                        None   \n",
       "244                        None   \n",
       "245                        None   \n",
       "246                        None   \n",
       "\n",
       "                                           description  \n",
       "0    Meaning and impact of computational thinking. ...  \n",
       "1    Computation as a tool for systematic problem s...  \n",
       "2    Fundamental computation and program structures...  \n",
       "3    Fundamental program and computation structures...  \n",
       "4    Physical and mathematical structures of comput...  \n",
       "..                                                 ...  \n",
       "242  This course is not eligible for Credit/D/Fail ...  \n",
       "243  This course is not eligible for Credit/D/Fail ...  \n",
       "244  This course is not eligible for Credit/D/Fail ...  \n",
       "245  [3-0-0] This course is not eligible for Credit...  \n",
       "246  This course is not eligible for Credit/D/Fail ...  \n",
       "\n",
       "[247 rows x 7 columns]"
      ]
     },
     "execution_count": 19,
     "metadata": {},
     "output_type": "execute_result"
    }
   ],
   "source": [
    "df_courses"
   ]
  },
  {
   "cell_type": "code",
   "execution_count": 24,
   "metadata": {
    "metadata": {}
   },
   "outputs": [],
   "source": [
    "from api import api_local\n",
    "\n",
    "client = OpenAI(api_key=api_local, base_url=\"https://api.deepseek.com\")"
   ]
  },
  {
   "cell_type": "code",
   "execution_count": null,
   "metadata": {
    "metadata": {}
   },
   "outputs": [],
   "source": [
    "pre = \"One of CPSC 103, CPSC 110, CPEN 221, EOSC 211, PHYS 210 and one of MATH 101, MATH 103, MATH 105, MATH 121, SCIE 001 and one of MATH 152, MATH 221, MATH 223.\"\n",
    "prompt_text = f\"Your task is to convert the following course prerequisites description into a nested list format.\\n\\\n",
    "                Here are an example of the course prerequisites\tdescription you may meet:\\n\\\n",
    "                Here is the paragraph:\\n \\\n",
    "                ~~~~~\\n  \\\n",
    "                {pre}\\n \\\n",
    "                ~~~~~\\n\\\n",
    "                If any detail is find, please return them in the form of csv files. return None if an information is not find\\n\\\n",
    "                Do not return any words that I don't ask you to return.\"\n",
    "\n",
    "role = \"You're a skilled instructional designer with a deep understanding of course structure and content organization. You excel at transforming course descriptions into clear, nested lists that enhance readability and comprehension for learners.\""
   ]
  },
  {
   "cell_type": "code",
   "execution_count": null,
   "metadata": {},
   "outputs": [],
   "source": [
    "response = client.chat.completions.create(\n",
    "    model=\"deepseek-chat\",\n",
    "    messages=[\n",
    "        {\"role\": \"system\", \"content\": role},\n",
    "        {\"role\": \"user\", \"content\": prompt_text},\n",
    "    ],\n",
    "    stream=False\n",
    ")\n",
    "\n",
    "print(response.choices[0].message.content)"
   ]
  },
  {
   "cell_type": "code",
   "execution_count": 10,
   "metadata": {
    "metadata": {}
   },
   "outputs": [
    {
     "name": "stdout",
     "output_type": "stream",
     "text": [
      "Course data saved to ubc_courses.csv.\n"
     ]
    }
   ],
   "source": [
    "df_courses.to_csv(\"data/ubc_courses.csv\", index=False)\n",
    "print(\"Course data saved to ubc_courses.csv.\")"
   ]
  }
 ],
 "metadata": {
  "kernelspec": {
   "display_name": "Python 3",
   "language": "python",
   "name": "python3"
  },
  "language_info": {
   "codemirror_mode": {
    "name": "ipython",
    "version": 3
   },
   "file_extension": ".py",
   "mimetype": "text/x-python",
   "name": "python",
   "nbconvert_exporter": "python",
   "pygments_lexer": "ipython3",
   "version": "3.11.4"
  }
 },
 "nbformat": 4,
 "nbformat_minor": 2
}
