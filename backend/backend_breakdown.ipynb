{
 "cells": [
  {
   "cell_type": "markdown",
   "metadata": {},
   "source": [
    "### **Option 1: Use a Dictionary for All Courses**\n",
    "- **Description**: Maintain a lightweight dictionary containing only course department and codes, and call the API to fetch details about individual courses as needed.\n",
    "\n",
    "#### **Advantages**:\n",
    "1. **Lower Initial Loading Time**: Only the basic dictionary is loaded at startup; specific course details are fetched on demand.\n",
    "2. **Smaller Memory Usage**: Avoid storing large amounts of course data in memory unless needed.\n",
    "3. **Up-to-Date Data**: Always fetch the latest course details from the API.\n",
    "\n",
    "#### **Disadvantages**:\n",
    "1. **Higher API Usage**: Frequent API calls might slow down the system and strain the API, especially with many users.\n",
    "2. **Dependency on API**: If the API becomes unavailable or slow, your website functionality might degrade.\n",
    "3. **Potential Rate Limits**: Repeated calls to the API could hit rate limits if the service enforces them.\n",
    "\n",
    "---\n",
    "\n",
    "### **Option 2: Preload and Pickle All Course Data**\n",
    "- **Description**: At the start, fetch all course data from the API, process it into Python objects, and save it as a serialized `.pkl` file. On application startup, load this data into memory.\n",
    "\n",
    "#### **Advantages**:\n",
    "1. **Fast Access**: All course data is readily available in memory for relationships and visualizations without additional API calls.\n",
    "2. **Reduced API Dependency**: Minimizes reliance on the API once the data is preloaded and saved.\n",
    "3. **Custom Data Structures**: You can structure and preprocess data in ways that make it faster and easier to work with (e.g., adding additional fields or indexing relationships).\n",
    "\n",
    "#### **Disadvantages**:\n",
    "1. **Initial Loading Delay**: Fetching and processing all courses at the start can be time-consuming.\n",
    "2. **Memory Usage**: Keeping all course data in memory might use more RAM, depending on the size of the dataset.\n",
    "3. **Stale Data**: The preloaded data can become outdated if UBC’s course information changes, requiring periodic refreshes."
   ]
  },
  {
   "cell_type": "markdown",
   "metadata": {},
   "source": [
    "### **Implementation Steps for Preloading and Pickling**"
   ]
  },
  {
   "cell_type": "markdown",
   "metadata": {},
   "source": [
    "#### **1. Fetch and Process Data**\n",
    "Use the API to download all course data and structure it into Python objects."
   ]
  },
  {
   "cell_type": "code",
   "execution_count": null,
   "metadata": {},
   "outputs": [],
   "source": [
    "import requests\n",
    "import pickle"
   ]
  },
  {
   "cell_type": "code",
   "execution_count": null,
   "metadata": {},
   "outputs": [],
   "source": [
    "# Fetch all course data\n",
    "response = requests.get(\"https://ubcexplorer.io/getAllCourses\")\n",
    "all_courses = response.json()\n",
    "\n",
    "# Optionally structure the data\n",
    "course_dict = {course[\"code\"]: course for course in all_courses}\n",
    "\n",
    "# Save to a pickle file\n",
    "with open(\"ubc_courses.pkl\", \"wb\") as file:\n",
    "    pickle.dump(course_dict, file)"
   ]
  },
  {
   "cell_type": "markdown",
   "metadata": {},
   "source": [
    "#### **2. Load Data for Your App**\n",
    "When the app starts, load the pickle file into memory."
   ]
  },
  {
   "cell_type": "code",
   "execution_count": null,
   "metadata": {},
   "outputs": [],
   "source": [
    "# Load the pickle file\n",
    "with open(\"ubc_courses.pkl\", \"rb\") as file:\n",
    "    course_dict = pickle.load(file)\n",
    "\n",
    "# Example: Access course data\n",
    "course_code = \"CPSC 410\"\n",
    "course_info = course_dict.get(course_code)\n",
    "print(course_info)"
   ]
  },
  {
   "cell_type": "markdown",
   "metadata": {},
   "source": [
    "#### **3. Refresh Mechanism**\n",
    "Implement a separate script to refresh the pickle file if needed."
   ]
  },
  {
   "cell_type": "code",
   "execution_count": null,
   "metadata": {},
   "outputs": [],
   "source": [
    "def refresh_course_data():\n",
    "    response = requests.get(\"https://ubcexplorer.io/getAllCourses\")\n",
    "    all_courses = response.json()\n",
    "    with open(\"ubc_courses.pkl\", \"wb\") as file:\n",
    "        pickle.dump(all_courses, file)\n"
   ]
  },
  {
   "cell_type": "markdown",
   "metadata": {},
   "source": [
    "#### **4. Integrate with the Web App**\n",
    "Store the ubc_courses.pkl file in our repository or a specific folder accessible by the backend. Use it to serve course data quickly."
   ]
  }
 ],
 "metadata": {
  "language_info": {
   "name": "python"
  }
 },
 "nbformat": 4,
 "nbformat_minor": 2
}
