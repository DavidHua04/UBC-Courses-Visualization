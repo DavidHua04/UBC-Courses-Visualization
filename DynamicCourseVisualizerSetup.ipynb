{
 "cells": [
  {
   "cell_type": "markdown",
   "metadata": {},
   "source": [
    "# DynamicCourseVisualizerSetup"
   ]
  },
  {
   "cell_type": "markdown",
   "metadata": {},
   "source": [
    "## 1. Course Crawler"
   ]
  },
  {
   "cell_type": "code",
   "execution_count": 5,
   "metadata": {
    "metadata": {}
   },
   "outputs": [
    {
     "name": "stdout",
     "output_type": "stream",
     "text": [
      "0]    \n",
      " \n",
      " \n",
      " \n",
      " \n",
      " \n",
      " \n",
      " CPSC_V 121 (4)   Models of Computation \n",
      " Physical and mathematical structures of computation. Boolean algebra and combinations logic circuits; proof techniques; functions and sequential circuits; sets and relations; finite state machines; sequential instruction execution. [3-2-1] Prerequisite: Principles of Mathematics 12 or Pre-calculus 12. Corequisite: One of CPSC 107, CPSC 110.    \n",
      " \n",
      " \n",
      " \n",
      " \n",
      " \n",
      " \n",
      " CPSC_V 203 (3)   Programming, Problem Solving, and Algorithms \n",
      " Analysis of increasingly complex algorithmic problems, using a modern programming language and a variety of approaches. Problem decomposition and abstraction guide explorations of topics from applied algorithms, for example Voronoi Diagrams, Markov Chains, Bin Packing, and Graph Search. Not for students with credit for, or currently enrolled in, CPSC 210 or CPEN 221. [3-0-1] Prerequisite: One of CPSC 103, CPSC 110, APSC 160, EOSC 211, MATH 210, PHYS 210, COMM 337.    \n",
      " \n",
      " \n",
      " \n",
      " \n",
      " \n",
      " \n",
      " CPSC_V 210 (4)   Software Con\n"
     ]
    }
   ],
   "source": [
    "import requests\n",
    "from bs4 import BeautifulSoup\n",
    "\n",
    "# Prompt the user for the URL\n",
    "url = \"https://vancouver.calendar.ubc.ca/course-descriptions/subject/cpscv\" # !!!\n",
    "\n",
    "# Fetch the webpage\n",
    "response = requests.get(url)\n",
    "if response.status_code == 200:\n",
    "    # Use BeautifulSoup to parse and extract text\n",
    "    soup = BeautifulSoup(response.text, 'html.parser')\n",
    "    text = soup.get_text(separator=' ')  # Use a space separator to keep words from joining together\n",
    "\n",
    "    # Output the extracted text (or part of it, depending on the size)\n",
    "    print(text[4000:5000])  # Display a few characters to check\n",
    "else:\n",
    "    print(\"Failed to retrieve the webpage. Status code:\", response.status_code)"
   ]
  },
  {
   "cell_type": "code",
   "execution_count": null,
   "metadata": {},
   "outputs": [],
   "source": []
  }
 ],
 "metadata": {
  "kernelspec": {
   "display_name": "Python 3",
   "language": "python",
   "name": "python3"
  },
  "language_info": {
   "codemirror_mode": {
    "name": "ipython",
    "version": 3
   },
   "file_extension": ".py",
   "mimetype": "text/x-python",
   "name": "python",
   "nbconvert_exporter": "python",
   "pygments_lexer": "ipython3",
   "version": "3.11.4"
  }
 },
 "nbformat": 4,
 "nbformat_minor": 2
}
