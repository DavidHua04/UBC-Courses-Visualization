{
 "cells": [
  {
   "cell_type": "markdown",
   "metadata": {},
   "source": [
    "# DynamicCourseVisualizerSetup"
   ]
  },
  {
   "cell_type": "markdown",
   "metadata": {},
   "source": [
    "## 1. Course Crawler"
   ]
  },
  {
   "cell_type": "code",
   "execution_count": 13,
   "metadata": {
    "metadata": {}
   },
   "outputs": [],
   "source": [
    "import requests\n",
    "from bs4 import BeautifulSoup"
   ]
  },
  {
   "cell_type": "code",
   "execution_count": 14,
   "metadata": {
    "metadata": {}
   },
   "outputs": [],
   "source": [
    "# Prompt the user for the URL\n",
    "url = \"https://vancouver.calendar.ubc.ca/course-descriptions/subject/cpscv\" # !!!\n",
    "\n",
    "# Fetch the webpage\n",
    "response = requests.get(url)\n",
    "\n",
    "if response.status_code == 200:\n",
    "    # Use BeautifulSoup to parse and extract text\n",
    "    soup = BeautifulSoup(response.text, 'html.parser')\n",
    "    text = soup.get_text(separator=' ')  # Use a space separator to keep words from joining together\n",
    "\n",
    "else:\n",
    "    print(\"Failed to retrieve the webpage. Status code:\", response.status_code)"
   ]
  },
  {
   "cell_type": "code",
   "execution_count": 15,
   "metadata": {
    "metadata": {}
   },
   "outputs": [
    {
     "name": "stdout",
     "output_type": "stream",
     "text": [
      "0]    \n",
      " \n",
      " \n",
      " \n",
      " \n",
      " \n",
      " \n",
      " CPSC_V 121 (4)   Models of Computation \n",
      " Physical and mathematical structures of computation. Boolean algebra and combinations logic circuits; proof techniques; functions and sequential circuits; sets and relations; finite state machines; sequential instruction execution. [3-2-1] Prerequisite: Principles of Mathematics 12 or Pre-calculus 12. Corequisite: One of CPSC 107, CPSC 110.    \n",
      " \n",
      " \n",
      " \n",
      " \n",
      " \n",
      " \n",
      " CPSC_V 203 (3)   Programming, Problem Solving, and Algorithms \n",
      " Analysis of inc\n"
     ]
    }
   ],
   "source": [
    "print(text[4000:4500])  # Display a few characters to check"
   ]
  },
  {
   "cell_type": "markdown",
   "metadata": {},
   "source": [
    "## 2. Course Information Extraction"
   ]
  },
  {
   "cell_type": "code",
   "execution_count": 16,
   "metadata": {
    "metadata": {}
   },
   "outputs": [],
   "source": [
    "import openai"
   ]
  },
  {
   "cell_type": "code",
   "execution_count": 17,
   "metadata": {
    "metadata": {}
   },
   "outputs": [],
   "source": [
    "# Function to call the OpenAI API to extract course information\n",
    "def extract_course_info(text):\n",
    "    openai.api_key = 'your api'\n",
    "\n",
    "    # Make an API call to GPT-3 or GPT-4\n",
    "    response = openai.Completion.create(\n",
    "        engine=\"gpt-3.5-turbo\",  # Or another appropriate model\n",
    "        prompt=\"Extract structured course information from the following text: \\n\" + text,\n",
    "        max_tokens=30000  # Adjust based on your needs\n",
    "    )\n",
    "\n",
    "    return response.choices[0].text.strip()\n",
    "\n",
    "structured_info = extract_course_info(text)\n",
    "print(structured_info)"
   ]
  }
 ],
 "metadata": {
  "kernelspec": {
   "display_name": "Python 3",
   "language": "python",
   "name": "python3"
  },
  "language_info": {
   "codemirror_mode": {
    "name": "ipython",
    "version": 3
   },
   "file_extension": ".py",
   "mimetype": "text/x-python",
   "name": "python",
   "nbconvert_exporter": "python",
   "pygments_lexer": "ipython3",
   "version": "3.11.4"
  }
 },
 "nbformat": 4,
 "nbformat_minor": 2
}
